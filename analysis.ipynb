{
 "cells": [
  {
   "cell_type": "markdown",
   "id": "39892506",
   "metadata": {},
   "source": [
    "## Phase 1: Code for Data Loading, Cleaning & Feature Engineering\n",
    "### Part 1: Setup and Initial Loading"
   ]
  },
  {
   "cell_type": "code",
   "execution_count": 8,
   "id": "3a5a0e56",
   "metadata": {},
   "outputs": [
    {
     "name": "stdout",
     "output_type": "stream",
     "text": [
      "\n",
      "DataFrame Info:\n",
      "<class 'pandas.core.frame.DataFrame'>\n",
      "RangeIndex: 42958 entries, 0 to 42957\n",
      "Data columns (total 21 columns):\n",
      " #   Column                     Non-Null Count  Dtype  \n",
      "---  ------                     --------------  -----  \n",
      " 0   Listing_ID                 42958 non-null  int64  \n",
      " 1   Price                      42958 non-null  int64  \n",
      " 2   Agency_Name                42958 non-null  object \n",
      " 3   Postcode                   42958 non-null  int64  \n",
      " 4   Address                    42958 non-null  object \n",
      " 5   Suburb                     42958 non-null  object \n",
      " 6   Longitude                  42958 non-null  float64\n",
      " 7   Latitude                   42958 non-null  float64\n",
      " 8   Property_Type              42958 non-null  object \n",
      " 9   Bedrooms                   42958 non-null  int64  \n",
      " 10  Bathrooms                  42958 non-null  int64  \n",
      " 11  Parking_Spaces             42958 non-null  int64  \n",
      " 12  Date_Sold                  42958 non-null  object \n",
      " 13  Land_Size                  42958 non-null  int64  \n",
      " 14  Primary_School_Name        42958 non-null  object \n",
      " 15  Primary_School_Distance    42958 non-null  int64  \n",
      " 16  Primary_School_ICSEA       42958 non-null  int64  \n",
      " 17  Secondary_School_Name      42958 non-null  object \n",
      " 18  Secondary_School_Distance  42958 non-null  int64  \n",
      " 19  Secondary_School_ICSEA     42958 non-null  int64  \n",
      " 20  Distance_to_CBD            42958 non-null  int64  \n",
      "dtypes: float64(2), int64(12), object(7)\n",
      "memory usage: 6.9+ MB\n"
     ]
    }
   ],
   "source": [
    "# ---------------------------------------------------------------------------\n",
    "# 1. SETUP & INITIAL DATA LOADING\n",
    "# ---------------------------------------------------------------------------\n",
    "import pandas as pd\n",
    "import numpy as np\n",
    "import matplotlib.pyplot as plt\n",
    "import seaborn as sns\n",
    "\n",
    "sns.set_theme(style=\"whitegrid\")\n",
    "plt.rcParams['figure.figsize'] = (14, 8) # Set default figure size\n",
    "\n",
    "# Load the dataset from the CSV file into a pandas DataFrame\n",
    "df = pd.read_csv('perth_property_data.csv')\n",
    "\n",
    "# --- Initial Inspection ---\n",
    "\n",
    "# Display a concise summary of the DataFrame.\n",
    "print(\"\\nDataFrame Info:\")\n",
    "df.info()"
   ]
  },
  {
   "cell_type": "code",
   "execution_count": 7,
   "id": "bda334ca",
   "metadata": {},
   "outputs": [
    {
     "name": "stdout",
     "output_type": "stream",
     "text": [
      "\n",
      "Descriptive Statistics:\n",
      "         Listing_ID         Price      Postcode     Longitude      Latitude  \\\n",
      "count  4.295800e+04  4.295800e+04  42958.000000  42958.000000  42958.000000   \n",
      "mean   1.391644e+08  8.610860e+05   6083.335840    115.867264    -31.956828   \n",
      "std    6.312142e+06  5.956430e+05     54.925532      0.077023      0.087968   \n",
      "min    1.014242e+08  1.000000e+00   6003.000000    115.732150    -32.133780   \n",
      "25%    1.375409e+08  5.100000e+05   6026.000000    115.804930    -32.034580   \n",
      "50%    1.409794e+08  6.875000e+05   6064.000000    115.854050    -31.948990   \n",
      "75%    1.432736e+08  9.800000e+05   6149.000000    115.923790    -31.886392   \n",
      "max    1.457244e+08  6.350000e+06   6166.000000    116.064601    -31.774076   \n",
      "\n",
      "           Bedrooms     Bathrooms  Parking_Spaces     Land_Size  \\\n",
      "count  42958.000000  42958.000000    42958.000000  4.295800e+04   \n",
      "mean       3.366614      1.731831        2.039643  4.179946e+03   \n",
      "std        0.878614      0.643763        1.129544  7.392181e+05   \n",
      "min        1.000000      1.000000        0.000000  2.900000e+01   \n",
      "25%        3.000000      1.000000        1.000000  3.100000e+02   \n",
      "50%        3.000000      2.000000        2.000000  5.070000e+02   \n",
      "75%        4.000000      2.000000        2.000000  7.150000e+02   \n",
      "max        9.000000      7.000000       12.000000  1.531600e+08   \n",
      "\n",
      "       Primary_School_Distance  Primary_School_ICSEA  \\\n",
      "count             42958.000000          42958.000000   \n",
      "mean                677.729620           1060.287350   \n",
      "std                 392.793154             78.267414   \n",
      "min                  15.000000            667.000000   \n",
      "25%                 408.000000           1019.000000   \n",
      "50%                 605.000000           1073.000000   \n",
      "75%                 855.000000           1119.000000   \n",
      "max                3243.000000           1197.000000   \n",
      "\n",
      "       Secondary_School_Distance  Secondary_School_ICSEA  Distance_to_CBD  \n",
      "count               42958.000000            42958.000000     42958.000000  \n",
      "mean                 1298.668956             1040.386610     11236.235905  \n",
      "std                   738.641623               87.918968      4794.768489  \n",
      "min                    32.000000              696.000000       678.000000  \n",
      "25%                   780.000000              979.000000      7540.000000  \n",
      "50%                  1174.000000             1036.000000     11257.000000  \n",
      "75%                  1643.000000             1109.000000     15002.750000  \n",
      "max                  4735.000000             1239.000000     20000.000000  \n"
     ]
    }
   ],
   "source": [
    "# Generate descriptive statistics for numerical columns.\n",
    "print(\"\\nDescriptive Statistics:\")\n",
    "print(df.describe())"
   ]
  },
  {
   "cell_type": "code",
   "execution_count": 9,
   "id": "d4d24adc",
   "metadata": {},
   "outputs": [
    {
     "name": "stdout",
     "output_type": "stream",
     "text": [
      "Found and loaded 8 rules from corrections.csv.\n",
      "Deleted 4 rows based on DELETE_ROW rules.\n",
      "Updated Listing_ID 138928707: Set column 'Price' to 730000.\n",
      "Updated Listing_ID 131703414: Set column 'Price' to 750000.\n",
      "Updated Listing_ID 142122104: Set column 'Price' to 530000.\n",
      "Updated Listing_ID 142973724: Set column 'Land_Size' to 404.\n",
      "\n",
      "Data ready for automated cleaning. Current rows: 42954.\n"
     ]
    }
   ],
   "source": [
    "# --- Load and Apply Manual Corrections ---\n",
    "df_raw = pd.read_csv('perth_property_data.csv')\n",
    "try:\n",
    "    # Load the corrections file\n",
    "    df_corrections = pd.read_csv('corrections.csv')\n",
    "    print(f\"Found and loaded {len(df_corrections)} rules from corrections.csv.\")\n",
    "    \n",
    "    df = df_raw.copy()\n",
    "    \n",
    "    # Step 1: Handle Deletions\n",
    "    # Identify all Listing_IDs marked for deletion.\n",
    "    ids_to_delete = df_corrections[df_corrections['New_Value'] == 'DELETE_ROW']['Listing_ID'].astype(int).tolist()\n",
    "    \n",
    "    if ids_to_delete:\n",
    "        initial_rows = len(df)\n",
    "        # Use .isin() to filter out the rows to be deleted. The ~ inverts the selection.\n",
    "        df = df[~df['Listing_ID'].isin(ids_to_delete)]\n",
    "        print(f\"Deleted {initial_rows - len(df)} rows based on DELETE_ROW rules.\")\n",
    "    \n",
    "    # Step 2: Handle Value Updates\n",
    "    # Filter for rules that are not deletions.\n",
    "    corrections_to_apply = df_corrections[df_corrections['New_Value'] != 'DELETE_ROW'].copy()\n",
    "    # Ensure data types are correct for matching\n",
    "    corrections_to_apply['Listing_ID'] = corrections_to_apply['Listing_ID'].astype(int)\n",
    "    corrections_to_apply['New_Value'] = pd.to_numeric(corrections_to_apply['New_Value'])\n",
    "\n",
    "    # Iterate through each correction rule and apply it using .loc for precision.\n",
    "    for index, rule in corrections_to_apply.iterrows():\n",
    "        listing_id = rule['Listing_ID']\n",
    "        column = rule['Column_To_Correct']\n",
    "        new_value = rule['New_Value']\n",
    "        \n",
    "        # This command finds the exact row(s) and column and sets the new value.\n",
    "        df.loc[df['Listing_ID'] == listing_id, column] = new_value\n",
    "        print(f\"Updated Listing_ID {listing_id}: Set column '{column}' to {new_value}.\")\n",
    "\n",
    "except FileNotFoundError:\n",
    "    print(\"Warning: corrections.csv not found. Proceeding with raw data.\")\n",
    "    df = df_raw.copy()\n",
    "\n",
    "# --- Manual Correction Complete ---\n",
    "# All subsequent cleaning and analysis will be performed on the 'df' DataFrame.\n",
    "print(f\"\\nData ready for automated cleaning. Current rows: {len(df)}.\")"
   ]
  }
 ],
 "metadata": {
  "kernelspec": {
   "display_name": ".venv",
   "language": "python",
   "name": "python3"
  },
  "language_info": {
   "codemirror_mode": {
    "name": "ipython",
    "version": 3
   },
   "file_extension": ".py",
   "mimetype": "text/x-python",
   "name": "python",
   "nbconvert_exporter": "python",
   "pygments_lexer": "ipython3",
   "version": "3.13.2"
  }
 },
 "nbformat": 4,
 "nbformat_minor": 5
}
